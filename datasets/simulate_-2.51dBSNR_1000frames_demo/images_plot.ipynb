{
 "cells": [
  {
   "cell_type": "code",
   "execution_count": 1,
   "outputs": [],
   "source": [
    "import matplotlib.pyplot as plt\n",
    "import tifffile\n",
    "import numpy as np\n",
    "from glob import glob\n",
    "\n",
    "# 이미지 로드\n",
    "img = tifffile.imread(\"./simulate_-2.51dBSNR_1000frames.tif\")"
   ],
   "metadata": {
    "collapsed": false,
    "ExecuteTime": {
     "end_time": "2024-05-31T22:22:07.669112Z",
     "start_time": "2024-05-31T22:22:05.982282Z"
    }
   },
   "id": "83633521ac440341"
  },
  {
   "cell_type": "code",
   "execution_count": 2,
   "outputs": [
    {
     "data": {
      "text/plain": "(1000, 490, 490)"
     },
     "execution_count": 2,
     "metadata": {},
     "output_type": "execute_result"
    }
   ],
   "source": [
    "img.shape"
   ],
   "metadata": {
    "collapsed": false,
    "ExecuteTime": {
     "end_time": "2024-05-31T22:22:13.827419Z",
     "start_time": "2024-05-31T22:22:13.725087Z"
    }
   },
   "id": "c7d979fc11b2e347"
  },
  {
   "cell_type": "code",
   "execution_count": 4,
   "outputs": [],
   "source": [
    "import napari\n",
    "import tifffile\n",
    "from glob import glob\n",
    "\n",
    "# 이미지 로드\n",
    "# napari viewer로 시각화\n",
    "viewer = napari.Viewer()\n",
    "viewer.add_image(img, name='3D Image')\n",
    "\n",
    "napari.run()\n"
   ],
   "metadata": {
    "collapsed": false,
    "ExecuteTime": {
     "end_time": "2024-05-31T22:26:27.275069Z",
     "start_time": "2024-05-31T22:26:26.922579Z"
    }
   },
   "id": "a28a28c091e4b062"
  },
  {
   "cell_type": "code",
   "execution_count": null,
   "outputs": [],
   "source": [],
   "metadata": {
    "collapsed": false
   },
   "id": "f21f1674eac5c5bd"
  }
 ],
 "metadata": {
  "kernelspec": {
   "display_name": "Python 3",
   "language": "python",
   "name": "python3"
  },
  "language_info": {
   "codemirror_mode": {
    "name": "ipython",
    "version": 2
   },
   "file_extension": ".py",
   "mimetype": "text/x-python",
   "name": "python",
   "nbconvert_exporter": "python",
   "pygments_lexer": "ipython2",
   "version": "2.7.6"
  }
 },
 "nbformat": 4,
 "nbformat_minor": 5
}
