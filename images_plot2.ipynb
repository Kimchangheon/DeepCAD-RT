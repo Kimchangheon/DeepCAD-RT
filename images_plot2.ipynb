{
 "cells": [
  {
   "cell_type": "code",
   "execution_count": 2,
   "outputs": [
    {
     "data": {
      "text/plain": "0.049173256649892166"
     },
     "execution_count": 2,
     "metadata": {},
     "output_type": "execute_result"
    }
   ],
   "source": [
    "(342/6955)\n",
    "(538/492)\n",
    "()"
   ],
   "metadata": {
    "collapsed": false,
    "ExecuteTime": {
     "end_time": "2024-07-01T13:33:57.773014Z",
     "start_time": "2024-07-01T13:33:57.763592Z"
    }
   },
   "id": "a56a0f5e016c553b"
  },
  {
   "cell_type": "code",
   "execution_count": 1,
   "outputs": [],
   "source": [
    "import napari\n",
    "import tifffile\n",
    "img = tifffile.imread(\"./result/EGST39_A_Image2_30min_best_model_output.tif\")\n",
    "\n",
    "# 이미지 로드\n",
    "# napari viewer로 시각화\n",
    "viewer = napari.Viewer()\n",
    "viewer.add_image(img, name='3D Image')\n",
    "\n",
    "napari.run()"
   ],
   "metadata": {
    "collapsed": false,
    "ExecuteTime": {
     "end_time": "2024-07-13T22:33:29.648625Z",
     "start_time": "2024-07-13T22:33:16.718887Z"
    }
   },
   "id": "f21f1674eac5c5bd"
  },
  {
   "cell_type": "code",
   "execution_count": null,
   "outputs": [],
   "source": [
    "import napari\n",
    "import tifffile\n",
    "img = tifffile.imread(\"./result/EGST39_A_Image2_30min_best_model_output.tif\")\n",
    "\n",
    "# 이미지 로드\n",
    "# napari viewer로 시각화\n",
    "viewer = napari.Viewer()\n",
    "viewer.add_image(img, name='3D Image')\n",
    "\n",
    "napari.run()"
   ],
   "metadata": {
    "collapsed": false
   },
   "id": "d89154abb9622a84"
  },
  {
   "cell_type": "code",
   "execution_count": 3,
   "outputs": [],
   "source": [
    "import napari\n",
    "import tifffile\n",
    "path =\"/Users/gimchangheon/Documents/GitHub/DeepCAD-RT/result/self/EGST39_A_Image2_30min_z0_E_10_Iter_7040.tif\"\n",
    "img = tifffile.imread(path)\n",
    "\n",
    "# 이미지 로드\n",
    "# napari viewer로 시각화\n",
    "viewer = napari.Viewer()\n",
    "viewer.add_image(img, name='3D Image')\n",
    "\n",
    "napari.run()\n"
   ],
   "metadata": {
    "collapsed": false,
    "ExecuteTime": {
     "end_time": "2024-06-20T23:47:06.943575Z",
     "start_time": "2024-06-20T23:47:06.419488Z"
    }
   },
   "id": "4efb8ae0fe7797ee"
  },
  {
   "cell_type": "code",
   "execution_count": 4,
   "outputs": [],
   "source": [
    "import napari\n",
    "import tifffile\n",
    "path =\"/Users/gimchangheon/Documents/GitHub/DeepCAD-RT/result/self/EGST39_A_Image2_30min_z0_E_10_Iter_0688.tif\"\n",
    "img = tifffile.imread(path)\n",
    "\n",
    "# 이미지 로드\n",
    "# napari viewer로 시각화\n",
    "viewer = napari.Viewer()\n",
    "viewer.add_image(img, name='3D Image')\n",
    "\n",
    "napari.run()\n"
   ],
   "metadata": {
    "collapsed": false,
    "ExecuteTime": {
     "end_time": "2024-06-20T23:48:15.903585Z",
     "start_time": "2024-06-20T23:48:15.463281Z"
    }
   },
   "id": "30af70d9aff520db"
  },
  {
   "cell_type": "code",
   "execution_count": 2,
   "outputs": [],
   "source": [
    "import napari\n",
    "import tifffile\n",
    "path=\"/Users/gimchangheon/Documents/GitHub/DeepCAD-RT/result/self/EGST39_A_Image2_30min_z0_E_10_Iter_0688_output.tif\"\n",
    "img = tifffile.imread(path)\n",
    "\n",
    "# 이미지 로드\n",
    "# napari viewer로 시각화\n",
    "viewer = napari.Viewer()\n",
    "viewer.add_image(img, name='3D Image')\n",
    "\n",
    "napari.run()\n"
   ],
   "metadata": {
    "collapsed": false,
    "ExecuteTime": {
     "end_time": "2024-06-20T23:46:37.628965Z",
     "start_time": "2024-06-20T23:46:34.495307Z"
    }
   },
   "id": "41987c578d9cb87d"
  },
  {
   "cell_type": "code",
   "execution_count": 2,
   "outputs": [],
   "source": [
    "import napari\n",
    "import tifffile\n",
    "path=\"/Users/gimchangheon/Documents/GitHub/DeepCAD-RT/result/self/EGST39_A_Image2_30min_z0_E_10_Iter_5168.tif\"\n",
    "path=\"/data/no12neni/DeepCAD_RT_pytorch/pth/EGST39_A_Image2_30min_z0_202407051908/EGST39_A_Image2_30min_z0_E_10_Iter_5168.tif\"\n",
    "img = tifffile.imread(path)\n",
    "\n",
    "# 이미지 로드\n",
    "# napari viewer로 시각화\n",
    "viewer = napari.Viewer()\n",
    "viewer.add_image(img, name='3D Image')\n",
    "\n",
    "napari.run()\n"
   ],
   "metadata": {
    "collapsed": false,
    "ExecuteTime": {
     "end_time": "2024-07-05T17:51:05.273530Z",
     "start_time": "2024-07-05T17:51:01.580982Z"
    }
   },
   "id": "e27ce451f4880af"
  },
  {
   "cell_type": "code",
   "execution_count": 3,
   "outputs": [],
   "source": [],
   "metadata": {
    "collapsed": false,
    "ExecuteTime": {
     "end_time": "2024-07-05T18:22:40.223804Z",
     "start_time": "2024-07-05T18:22:39.639067Z"
    }
   },
   "id": "5a71dd44f67a15f"
  }
 ],
 "metadata": {
  "kernelspec": {
   "display_name": "Python 3",
   "language": "python",
   "name": "python3"
  },
  "language_info": {
   "codemirror_mode": {
    "name": "ipython",
    "version": 2
   },
   "file_extension": ".py",
   "mimetype": "text/x-python",
   "name": "python",
   "nbconvert_exporter": "python",
   "pygments_lexer": "ipython2",
   "version": "2.7.6"
  }
 },
 "nbformat": 4,
 "nbformat_minor": 5
}
