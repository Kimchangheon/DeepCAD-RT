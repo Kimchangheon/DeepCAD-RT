{
 "cells": [
  {
   "cell_type": "code",
   "execution_count": 16,
   "outputs": [
    {
     "name": "stdout",
     "output_type": "stream",
     "text": [
      "(292, 538, 545)\n"
     ]
    }
   ],
   "source": [
    "import napari\n",
    "import tifffile\n",
    "path =\"/Users/gimchangheon/Documents/GitHub/DeepCAD-RT/DeepCAD_RT_pytorch/pth/EGST39_A_Image2_30min_z10_202407142045/EGST39_A_Image2_30min_z10_E_10_Iter_4528.tif\"\n",
    "img = tifffile.imread(path)\n",
    "print(img.shape)\n",
    "# 이미지 로드\n",
    "# napari viewer로 시각화\n",
    "viewer = napari.Viewer()\n",
    "viewer.add_image(img, name='3D Image')\n",
    "\n",
    "napari.run()\n"
   ],
   "metadata": {
    "collapsed": false,
    "ExecuteTime": {
     "end_time": "2024-07-14T22:43:04.620027Z",
     "start_time": "2024-07-14T22:43:03.600612Z"
    }
   },
   "id": "53eb7c71e46c9609"
  },
  {
   "cell_type": "code",
   "execution_count": 17,
   "outputs": [
    {
     "name": "stdout",
     "output_type": "stream",
     "text": [
      "(292, 538, 545)\n"
     ]
    }
   ],
   "source": [
    "import napari\n",
    "import tifffile\n",
    "path =\"/Users/gimchangheon/Documents/GitHub/DeepCAD-RT/results/EGST39_A_Image2_30min_z10_202407142045/DataFolderIs_EGST39_A_Image2_30min_z10_202407142107_ModelFolderIs_EGST39_A_Image2_30min_z10_202407142045/E_10_Iter_4528/EGST39_A_Image2_30min_z10_E_10_Iter_4528_output.tif\"\n",
    "img = tifffile.imread(path)\n",
    "print(img.shape)\n",
    "# 이미지 로드\n",
    "# napari viewer로 시각화\n",
    "viewer = napari.Viewer()\n",
    "viewer.add_image(img, name='3D Image')\n",
    "\n",
    "napari.run()\n"
   ],
   "metadata": {
    "collapsed": false,
    "ExecuteTime": {
     "end_time": "2024-07-14T22:43:33.567926Z",
     "start_time": "2024-07-14T22:43:33.059948Z"
    }
   },
   "id": "aa60640863cd16fa"
  },
  {
   "cell_type": "code",
   "execution_count": 14,
   "outputs": [
    {
     "name": "stdout",
     "output_type": "stream",
     "text": [
      "(342, 538, 545)\n"
     ]
    }
   ],
   "source": [
    "import napari\n",
    "import tifffile\n",
    "# path=\"/Users/gimchangheon/Documents/GitHub/DeepCAD-RT/result/2_51/simulate_-2.51dBSNR_1000frames_E_10_Iter_7536.tif\"\n",
    "path =\"/Users/gimchangheon/Documents/GitHub/DeepCAD-RT/DeepCAD_RT_pytorch/pth/EGST39_A_Image2_30min_z10_202407142002/EGST39_A_Image2_30min_z10_E_10_Iter_5168.tif\"\n",
    "img = tifffile.imread(path)\n",
    "print(img.shape)\n",
    "# 이미지 로드\n",
    "# napari viewer로 시각화\n",
    "viewer = napari.Viewer()\n",
    "viewer.add_image(img, name='3D Image')\n",
    "\n",
    "napari.run()\n"
   ],
   "metadata": {
    "collapsed": false,
    "ExecuteTime": {
     "end_time": "2024-07-14T22:26:21.768010Z",
     "start_time": "2024-07-14T22:26:21.419674Z"
    }
   },
   "id": "deaa4d28a40b1a5f"
  },
  {
   "cell_type": "code",
   "execution_count": 15,
   "outputs": [
    {
     "name": "stdout",
     "output_type": "stream",
     "text": [
      "(292, 538, 545)\n"
     ]
    }
   ],
   "source": [],
   "metadata": {
    "collapsed": false,
    "ExecuteTime": {
     "end_time": "2024-07-14T22:26:45.474601Z",
     "start_time": "2024-07-14T22:26:44.967583Z"
    }
   },
   "id": "4d06b01a1bfe5237"
  },
  {
   "cell_type": "code",
   "execution_count": 9,
   "outputs": [
    {
     "name": "stdout",
     "output_type": "stream",
     "text": [
      "(342, 538, 545)\n"
     ]
    }
   ],
   "source": [
    "import napari\n",
    "import tifffile\n",
    "# path=\"/Users/gimchangheon/Documents/GitHub/DeepCAD-RT/result/2_51/simulate_-2.51dBSNR_1000frames_E_10_Iter_7536.tif\"\n",
    "path =\"/Users/gimchangheon/Documents/GitHub/DeepCAD-RT/results/EGST39_A_Image2_30min_z10_202407142002/DataFolderIs_EGST39_A_Image2_30min_z10_202407142019_ModelFolderIs_EGST39_A_Image2_30min_z10_202407142002/E_10_Iter_5168/EGST39_A_Image2_30min_z10_E_10_Iter_5168_output.tif\"\n",
    "img = tifffile.imread(path)\n",
    "print(img.shape)\n",
    "# 이미지 로드\n",
    "# napari viewer로 시각화\n",
    "viewer = napari.Viewer()\n",
    "viewer.add_image(img, name='3D Image')\n",
    "\n",
    "napari.run()\n"
   ],
   "metadata": {
    "collapsed": false,
    "ExecuteTime": {
     "end_time": "2024-07-14T18:26:25.608168Z",
     "start_time": "2024-07-14T18:26:25.306061Z"
    }
   },
   "id": "e7efb5031205993c"
  },
  {
   "cell_type": "code",
   "execution_count": 2,
   "outputs": [
    {
     "data": {
      "text/plain": "0.049173256649892166"
     },
     "execution_count": 2,
     "metadata": {},
     "output_type": "execute_result"
    }
   ],
   "source": [
    "(342/6955)\n",
    "(538/492)\n",
    "()"
   ],
   "metadata": {
    "collapsed": false,
    "ExecuteTime": {
     "end_time": "2024-07-01T13:33:57.773014Z",
     "start_time": "2024-07-01T13:33:57.763592Z"
    }
   },
   "id": "a56a0f5e016c553b"
  },
  {
   "cell_type": "code",
   "execution_count": 4,
   "outputs": [
    {
     "name": "stdout",
     "output_type": "stream",
     "text": [
      "(342, 538, 545)\n"
     ]
    }
   ],
   "source": [
    "import napari\n",
    "import tifffile\n",
    "# path=\"/Users/gimchangheon/Documents/GitHub/DeepCAD-RT/result/2_51/simulate_-2.51dBSNR_1000frames_E_10_Iter_7536.tif\"\n",
    "path =\"/Users/gimchangheon/Documents/GitHub/DeepCAD-RT/results/EGST39_A_Image2_30min_z10_202407052105/DataFolderIs_EGST39_A_Image2_30min_z10_202407052245_ModelFolderIs_EGST39_A_Image2_30min_z10_202407052105/E_10_Iter_4528/EGST39_A_Image2_30min_z10_E_10_Iter_4528_output.tif\"\n",
    "img = tifffile.imread(path)\n",
    "print(img.shape)\n",
    "# 이미지 로드\n",
    "# napari viewer로 시각화\n",
    "viewer = napari.Viewer()\n",
    "viewer.add_image(img, name='3D Image')\n",
    "\n",
    "napari.run()\n"
   ],
   "metadata": {
    "collapsed": false,
    "ExecuteTime": {
     "end_time": "2024-07-14T17:33:41.500644Z",
     "start_time": "2024-07-14T17:33:41.121754Z"
    }
   },
   "id": "e27ce451f4880af"
  },
  {
   "cell_type": "code",
   "execution_count": 2,
   "outputs": [
    {
     "name": "stdout",
     "output_type": "stream",
     "text": [
      "(292, 538, 545)\n"
     ]
    }
   ],
   "source": [
    "import napari\n",
    "import tifffile\n",
    "# path=\"/Users/gimchangheon/Documents/GitHub/DeepCAD-RT/result/2_51/simulate_-2.51dBSNR_1000frames_E_10_Iter_7536.tif\"\n",
    "path =\"/Users/gimchangheon/Documents/GitHub/DeepCAD-RT/result/self/EGST39_A_Image2_30min_z10_E_10_Iter_4528.tif\"\n",
    "img = tifffile.imread(path)\n",
    "print(img.shape)\n",
    "# 이미지 로드\n",
    "# napari viewer로 시각화\n",
    "viewer = napari.Viewer()\n",
    "viewer.add_image(img, name='3D Image')\n",
    "\n",
    "napari.run()\n"
   ],
   "metadata": {
    "collapsed": false,
    "ExecuteTime": {
     "end_time": "2024-07-14T17:16:12.549054Z",
     "start_time": "2024-07-14T17:16:12.013943Z"
    }
   },
   "id": "2a69204fc91c7e87"
  },
  {
   "cell_type": "code",
   "execution_count": 12,
   "outputs": [
    {
     "name": "stdout",
     "output_type": "stream",
     "text": [
      "(342, 538, 545)\n"
     ]
    }
   ],
   "source": [
    "import napari\n",
    "import tifffile\n",
    "# path=\"/Users/gimchangheon/Documents/GitHub/DeepCAD-RT/result/2_51/simulate_-2.51dBSNR_1000frames_E_10_Iter_7536.tif\"\n",
    "path =\"/Users/gimchangheon/Documents/GitHub/DeepCAD-RT/results/EGST39_A_Image2_30min_z10_202407052105/DataFolderIs_EGST39_A_Image2_30min_z10_202407052217_ModelFolderIs_EGST39_A_Image2_30min_z10_202407052105/E_10_Iter_4528/EGST39_A_Image2_30min_z10_E_10_Iter_4528_output.tif\"\n",
    "img = tifffile.imread(path)\n",
    "print(img.shape)\n",
    "# 이미지 로드\n",
    "# napari viewer로 시각화\n",
    "viewer = napari.Viewer()\n",
    "viewer.add_image(img, name='3D Image')\n",
    "\n",
    "napari.run()\n"
   ],
   "metadata": {
    "collapsed": false,
    "ExecuteTime": {
     "end_time": "2024-07-05T20:24:42.397913Z",
     "start_time": "2024-07-05T20:24:42.041597Z"
    }
   },
   "id": "3af20e07b9d5a5b7"
  },
  {
   "cell_type": "code",
   "execution_count": 14,
   "outputs": [
    {
     "name": "stdout",
     "output_type": "stream",
     "text": [
      "(342, 538, 545)\n"
     ]
    }
   ],
   "source": [
    "path=\"/Users/gimchangheon/Documents/GitHub/DeepCAD-RT/results/EGST39_A_Image2_30min_z10_202407052105/DataFolderIs_EGST39_A_Image2_30min_z10_202407052217_ModelFolderIs_EGST39_A_Image2_30min_z10_202407052105/E_10_Iter_4528/EGST39_A_Image2_30min_z10_E_10_Iter_4528_output_10000.tif\"\n",
    "img = tifffile.imread(path)\n",
    "print(img.shape)\n",
    "# 이미지 로드\n",
    "# napari viewer로 시각화\n",
    "viewer = napari.Viewer()\n",
    "viewer.add_image(img, name='3D Image')\n",
    "\n",
    "napari.run()"
   ],
   "metadata": {
    "collapsed": false,
    "ExecuteTime": {
     "end_time": "2024-07-05T20:50:11.538532Z",
     "start_time": "2024-07-05T20:50:11.210001Z"
    }
   },
   "id": "437f06729cbdd223"
  },
  {
   "cell_type": "code",
   "execution_count": 2,
   "outputs": [],
   "source": [
    "import napari\n",
    "import tifffile\n",
    "path =\"/Users/gimchangheon/Documents/GitHub/DeepCAD-RT/results/EGST39_A_Image2_30min_z10_202407052105/DataFolderIs_EGST39_A_Image2_30min_z10_202407052217_ModelFolderIs_EGST39_A_Image2_30min_z10_202407052105/E_10_Iter_4528/EGST39_A_Image2_30min_z10_E_10_Iter_4528_output_10000.tif\"\n",
    "img = tifffile.imread(path)\n",
    "\n",
    "# 이미지 로드\n",
    "# napari viewer로 시각화\n",
    "viewer = napari.Viewer()\n",
    "viewer.add_image(img, name='3D Image')\n",
    "\n",
    "napari.run()"
   ],
   "metadata": {
    "collapsed": false,
    "ExecuteTime": {
     "end_time": "2024-07-13T22:36:56.001205Z",
     "start_time": "2024-07-13T22:36:53.231898Z"
    }
   },
   "id": "5a71dd44f67a15f"
  },
  {
   "cell_type": "code",
   "execution_count": 8,
   "outputs": [
    {
     "data": {
      "text/plain": "(342, 538, 545)"
     },
     "execution_count": 8,
     "metadata": {},
     "output_type": "execute_result"
    }
   ],
   "source": [
    "img.shape"
   ],
   "metadata": {
    "collapsed": false,
    "ExecuteTime": {
     "end_time": "2024-07-05T20:09:09.866233Z",
     "start_time": "2024-07-05T20:09:09.849629Z"
    }
   },
   "id": "4a555c8dc69b23f5"
  },
  {
   "cell_type": "code",
   "execution_count": null,
   "outputs": [],
   "source": [],
   "metadata": {
    "collapsed": false
   },
   "id": "d121364eb7133519"
  }
 ],
 "metadata": {
  "kernelspec": {
   "display_name": "Python 3",
   "language": "python",
   "name": "python3"
  },
  "language_info": {
   "codemirror_mode": {
    "name": "ipython",
    "version": 2
   },
   "file_extension": ".py",
   "mimetype": "text/x-python",
   "name": "python",
   "nbconvert_exporter": "python",
   "pygments_lexer": "ipython2",
   "version": "2.7.6"
  }
 },
 "nbformat": 4,
 "nbformat_minor": 5
}
