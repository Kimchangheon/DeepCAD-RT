{
 "cells": [
  {
   "cell_type": "code",
   "execution_count": null,
   "id": "initial_id",
   "metadata": {
    "collapsed": true
   },
   "outputs": [],
   "source": [
    "all images before denosing\n",
    "/data/no12neni/images/image_z_sperated/EGST39_A_Image2_30min\n",
    "/data/no12neni/images/image_z_sperated/EGST39_A_Image3_30min"
   ]
  },
  {
   "cell_type": "code",
   "execution_count": null,
   "outputs": [],
   "source": [
    "import os\n",
    "\n",
    "\n",
    "dir_list = ['DataFolderIs_EGST39_A_Image2_30min_202406031252_ModelFolderIs_ATP_2D_best_model_demo',\n",
    "'DataFolderIs_EGST39_A_Image2_30min_202406031310_ModelFolderIs_ATP_3D_best_model_demo',\n",
    "'DataFolderIs_EGST39_A_Image2_30min_202406031328_ModelFolderIs_NP_2D_best_model_demo',\n",
    "'DataFolderIs_EGST39_A_Image2_30min_202406031345_ModelFolderIs_NP_3D_best_model_demo',\n",
    "'DataFolderIs_EGST39_A_Image2_30min_202406031403_ModelFolderIs_drosophila_best_model_demo',\n",
    "'DataFolderIs_EGST39_A_Image2_30min_202406031421_ModelFolderIs_fish_localbrain_best_model_demo',\n",
    "'DataFolderIs_EGST39_A_Image2_30min_202406031439_ModelFolderIs_fish_wholebrain_best_model_demo',\n",
    "'DataFolderIs_EGST39_A_Image2_30min_202406031456_ModelFolderIs_mouse_spine_best_model_demo',\n",
    "'DataFolderIs_EGST39_A_Image2_30min_202406031514_ModelFolderIs_simulate_-2.51dBSNR_1000frames_best_model_demo']\n",
    "\n",
    "new_dir_list = []\n",
    "for path in dir_list : \n",
    "    new_dir_path = os.path.join('/data/no12neni/results/EGST39_A_Image2_30min',path)\n",
    "    new_dir_path = os.path.join(new_dir_path,'best_model')\n",
    "    new_dir_list.append(new_dir_path)\n",
    "\n",
    "# from z0 to z19\n",
    "# Let's first see z=7'\n",
    "\n",
    "def absoluteFilePaths(directory):\n",
    "    for dirpath,_,filenames in os.walk(directory):\n",
    "        for f in filenames:\n",
    "            yield os.path.abspath(os.path.join(dirpath, f))\n",
    "\n",
    "\n",
    "for path in new_dir_list : \n",
    "    all_files = absoluteFilePaths(path)\n",
    "    print('EGST39_A_Image2_30min_z7_best_model_output.tif')\n"
   ],
   "metadata": {
    "collapsed": false
   },
   "id": "1de7dd6c00ab0dbc"
  },
  {
   "cell_type": "code",
   "execution_count": null,
   "outputs": [],
   "source": [
    "'/data/no12neni/results/EGST39_A_Image3_30min'\n",
    "['DataFolderIs_EGST39_A_Image3_30min_202406031303_ModelFolderIs_ATP_2D_best_model_demo',\n",
    "'DataFolderIs_EGST39_A_Image3_30min_202406031321_ModelFolderIs_ATP_3D_best_model_demo',\n",
    "'DataFolderIs_EGST39_A_Image3_30min_202406031339_ModelFolderIs_NP_2D_best_model_demo',\n",
    "'DataFolderIs_EGST39_A_Image3_30min_202406031357_ModelFolderIs_NP_3D_best_model_demo',\n",
    "'DataFolderIs_EGST39_A_Image3_30min_202406031414_ModelFolderIs_drosophila_best_model_demo',\n",
    "'DataFolderIs_EGST39_A_Image3_30min_202406031432_ModelFolderIs_fish_localbrain_best_model_demo',\n",
    "'DataFolderIs_EGST39_A_Image3_30min_202406031450_ModelFolderIs_fish_wholebrain_best_model_demo',\n",
    "'DataFolderIs_EGST39_A_Image3_30min_202406031508_ModelFolderIs_mouse_spine_best_model_demo',\n",
    "'DataFolderIs_EGST39_A_Image3_30min_202406031525_ModelFolderIs_simulate_-2.51dBSNR_1000frames_best_model_demo']\n",
    "\n",
    "'best_model'\n"
   ],
   "metadata": {
    "collapsed": false
   },
   "id": "ce637b6da7eb6f52"
  }
 ],
 "metadata": {
  "kernelspec": {
   "display_name": "Python 3",
   "language": "python",
   "name": "python3"
  },
  "language_info": {
   "codemirror_mode": {
    "name": "ipython",
    "version": 2
   },
   "file_extension": ".py",
   "mimetype": "text/x-python",
   "name": "python",
   "nbconvert_exporter": "python",
   "pygments_lexer": "ipython2",
   "version": "2.7.6"
  }
 },
 "nbformat": 4,
 "nbformat_minor": 5
}
